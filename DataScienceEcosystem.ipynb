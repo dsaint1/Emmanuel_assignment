{
 "cells": [
  {
   "cell_type": "markdown",
   "id": "fc7ee971-4e9c-4ff2-929a-21e00174b23d",
   "metadata": {},
   "source": [
    "# Data Science Tools and Ecosystem "
   ]
  },
  {
   "cell_type": "markdown",
   "id": "91c82c89-97b2-4e32-acc1-4143d925ac8e",
   "metadata": {},
   "source": [
    "In this notebook, Data Science Tools and Ecosystem are summarized."
   ]
  },
  {
   "cell_type": "markdown",
   "id": "d78c2f37-c026-41d5-b1a3-fab04cf6a3b0",
   "metadata": {},
   "source": [
    "__Objectives:__\n",
    "* List 3 popular languages for data science\n",
    "* List 4 commomly used libraries for\n",
    "* List 3 data science tools\n",
    "* Write a code to convert minutes to hours"
   ]
  },
  {
   "cell_type": "markdown",
   "id": "31dd6c2b-6344-415c-8850-e3172940fe24",
   "metadata": {},
   "source": [
    "Some of the popular languages that Data Scientists use are:\n",
    "1. Python\n",
    "2. R\n",
    "3. SQL"
   ]
  },
  {
   "cell_type": "markdown",
   "id": "07cc4137-968c-4a0c-8796-ceca95958d89",
   "metadata": {},
   "source": [
    "Some of the commonly used libraries used by Data Scientists include:\n",
    "1. Matplotlib\n",
    "2. Numpy\n",
    "3. Scipi\n",
    "4. Pandas"
   ]
  },
  {
   "cell_type": "markdown",
   "id": "88150642-b00f-40bc-909f-f5fcb764e50a",
   "metadata": {},
   "source": [
    "| Data Science tools |\n",
    "|:-----------------:|\n",
    "| Rstudio |\n",
    "| Apache spark |\n",
    "| TensorFlow |"
   ]
  },
  {
   "cell_type": "markdown",
   "id": "bad7f48e-e9a3-4e53-9e01-b41b2a89c966",
   "metadata": {},
   "source": [
    "### Below are a few examples of evaluating arithmetic expressions in python"
   ]
  },
  {
   "cell_type": "code",
   "execution_count": 2,
   "id": "bf4b15e0-9be7-428c-b666-6a98bdd117e5",
   "metadata": {
    "scrolled": true
   },
   "outputs": [
    {
     "name": "stdout",
     "output_type": "stream",
     "text": [
      "Given that Formula = (a*b) + c\n"
     ]
    },
    {
     "name": "stdin",
     "output_type": "stream",
     "text": [
      "Enter the value for a 3\n",
      "Enter the value for b 4\n",
      "Enter the value for c 5\n"
     ]
    },
    {
     "name": "stdout",
     "output_type": "stream",
     "text": [
      "The multiplication and addition of numbers is 17\n"
     ]
    }
   ],
   "source": [
    "# This is a simple arithmetic expression to multiply then add integers\n",
    "print(\"Given that Formula = (a*b) + c\")\n",
    "a = int(input(\"Enter the value for a\"))\n",
    "b = int(input(\"Enter the value for b\"))\n",
    "c = int(input(\"Enter the value for c\"))\n",
    "Formula = (a*b) + c\n",
    "print(\"The multiplication and addition of numbers is\", Formula)"
   ]
  },
  {
   "cell_type": "code",
   "execution_count": 1,
   "id": "ce88b638-18a6-4e70-ab08-961506ba7931",
   "metadata": {},
   "outputs": [
    {
     "name": "stdin",
     "output_type": "stream",
     "text": [
      "Enter the minutes to convert: 200\n"
     ]
    },
    {
     "name": "stdout",
     "output_type": "stream",
     "text": [
      "The hours equivalent of the minutes entered is: 3\n"
     ]
    }
   ],
   "source": [
    "# This will convert 200 minutes to hours \n",
    "mins = int(input(\"Enter the minutes to convert:\"))\n",
    "hour = mins//60\n",
    "print (\"The hours equivalent of the minutes entered is:\", hour)"
   ]
  },
  {
   "cell_type": "markdown",
   "id": "f81c183e-14aa-4fa1-887d-dc7d5dbe2bf2",
   "metadata": {},
   "source": [
    "## Author\n",
    "Oziegbe Emmanuel"
   ]
  },
  {
   "cell_type": "code",
   "execution_count": null,
   "id": "2ae9b333-4d90-43fa-a463-89d36ce6e076",
   "metadata": {},
   "outputs": [],
   "source": []
  }
 ],
 "metadata": {
  "kernelspec": {
   "display_name": "Python 3 (ipykernel)",
   "language": "python",
   "name": "python3"
  },
  "language_info": {
   "codemirror_mode": {
    "name": "ipython",
    "version": 3
   },
   "file_extension": ".py",
   "mimetype": "text/x-python",
   "name": "python",
   "nbconvert_exporter": "python",
   "pygments_lexer": "ipython3",
   "version": "3.11.7"
  }
 },
 "nbformat": 4,
 "nbformat_minor": 5
}
